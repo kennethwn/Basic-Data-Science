{
 "cells": [
  {
   "cell_type": "code",
   "execution_count": 9,
   "metadata": {},
   "outputs": [
    {
     "name": "stdout",
     "output_type": "stream",
     "text": [
      "[0.5  0.25]\n",
      "[4. 0.]\n"
     ]
    }
   ],
   "source": [
    "import numpy as np\n",
    "from sklearn.cluster import KMeans\n",
    "\n",
    "x1 = np.array([0,0])\n",
    "x2 = np.array([2,2])\n",
    "\n",
    "n = int(input())\n",
    "xTest = []\n",
    "\n",
    "for i in range(n):\n",
    "  xTest.append([float(x) for x in input().split()])\n",
    "  \n",
    "xTest = np.array(xTest).reshape((-1,2))\n",
    "\n",
    "for i in range(n):\n",
    "  dist1 = np.sqrt(((xTest[i]-x1[0])**2).sum())\n",
    "  dist2 = np.sqrt(((xTest[i]-x2[0])**2).sum())\n",
    "  if dist1 <= dist2:\n",
    "    x1 = np.vstack((x1,xTest[i]))\n",
    "  else:\n",
    "    x2 = np.vstack((x2,xTest[i]))\n",
    "    \n",
    "    \n",
    "if x1.size > 2:\n",
    "   mean1 = np.mean(x1[1:], axis=0)\n",
    "   print(np.around(mean1, decimals=2))\n",
    "else:\n",
    "   print(None)\n",
    "   \n",
    "if x2.size > 2:\n",
    "   mean2 = np.mean(x2[1:], axis=0)\n",
    "   print(np.around(mean2, decimals=2))\n",
    "else:\n",
    "   print(None)\n"
   ]
  }
 ],
 "metadata": {
  "kernelspec": {
   "display_name": "Python 3.10.5 64-bit",
   "language": "python",
   "name": "python3"
  },
  "language_info": {
   "codemirror_mode": {
    "name": "ipython",
    "version": 3
   },
   "file_extension": ".py",
   "mimetype": "text/x-python",
   "name": "python",
   "nbconvert_exporter": "python",
   "pygments_lexer": "ipython3",
   "version": "3.10.5"
  },
  "orig_nbformat": 4,
  "vscode": {
   "interpreter": {
    "hash": "27f6fea6f47ae512550f0b8facdbd035a93e1dd89633f7bf2dd00a2502c71d0d"
   }
  }
 },
 "nbformat": 4,
 "nbformat_minor": 2
}
