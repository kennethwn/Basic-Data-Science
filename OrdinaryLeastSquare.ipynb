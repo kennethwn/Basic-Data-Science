{
 "cells": [
  {
   "cell_type": "code",
   "execution_count": 2,
   "metadata": {},
   "outputs": [
    {
     "name": "stdout",
     "output_type": "stream",
     "text": [
      "[2.  1.5]\n"
     ]
    }
   ],
   "source": [
    "import numpy as np\n",
    "import pandas as pd\n",
    "\n",
    "# Default Input\n",
    "n, p = [int(x) for x in input().split()]\n",
    "\n",
    "x = []\n",
    "for i in range(n):\n",
    "  x.append([float(x) for x in input().split()])\n",
    "X = np.array(x)\n",
    "\n",
    "Y = [float(x) for x in input().split()]\n",
    "y = np.array(Y)\n",
    "\n",
    "# New Variable\n",
    "XNew = X.reshape((n,p))\n",
    "\n",
    "# Calculation\n",
    "b = np.linalg.pinv(X) @ y.transpose() \n",
    "print(np.around(b,decimals=2))"
   ]
  }
 ],
 "metadata": {
  "kernelspec": {
   "display_name": "Python 3.10.5 64-bit",
   "language": "python",
   "name": "python3"
  },
  "language_info": {
   "codemirror_mode": {
    "name": "ipython",
    "version": 3
   },
   "file_extension": ".py",
   "mimetype": "text/x-python",
   "name": "python",
   "nbconvert_exporter": "python",
   "pygments_lexer": "ipython3",
   "version": "3.10.5"
  },
  "orig_nbformat": 4,
  "vscode": {
   "interpreter": {
    "hash": "27f6fea6f47ae512550f0b8facdbd035a93e1dd89633f7bf2dd00a2502c71d0d"
   }
  }
 },
 "nbformat": 4,
 "nbformat_minor": 2
}
