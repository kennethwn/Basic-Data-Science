{
 "cells": [
  {
   "cell_type": "code",
   "execution_count": 13,
   "metadata": {},
   "outputs": [
    {
     "name": "stdout",
     "output_type": "stream",
     "text": [
      "[[1. 0.]\n",
      " [1. 2.]]\n"
     ]
    }
   ],
   "source": [
    "y_true = [int(x) for x in input().split()]\n",
    "y_pred =  [int(x) for x in input().split()]\n",
    "\n",
    "import numpy as np\n",
    "from sklearn.metrics import confusion_matrix\n",
    "\n",
    "y_true = np.array(y_true)\n",
    "y_pred = np.array(y_pred)\n",
    "\n",
    "confusion = confusion_matrix(y_true,y_pred,labels=[1,0])\n",
    "\n",
    "print(np.array(confusion, dtype='f').transpose())"
   ]
  },
  {
   "cell_type": "code",
   "execution_count": 12,
   "metadata": {},
   "outputs": [
    {
     "name": "stdout",
     "output_type": "stream",
     "text": [
      "[[1. 0.]\n",
      " [1. 2.]]\n"
     ]
    }
   ],
   "source": [
    "import numpy as np\n",
    "from sklearn.metrics import confusion_matrix\n",
    "\n",
    "y_true = [int(x) for x in input().split()]\n",
    "y_pred =  [int(x) for x in input().split()]\n",
    "\n",
    "X = []\n",
    "TL = float(0)\n",
    "TR = float(0)\n",
    "BL = float(0)\n",
    "BR = float(0)\n",
    "\n",
    "for x, y in zip(y_true, y_pred):\n",
    "    if x == 1:\n",
    "        if y == 1:\n",
    "            TL += 1\n",
    "        else:\n",
    "            BL += 1\n",
    "\n",
    "    elif x == 0:\n",
    "        if y == 1:\n",
    "            TR += 1\n",
    "        else:\n",
    "            BR += 1\n",
    "\n",
    "X.append(TL)\n",
    "X.append(TR)\n",
    "X.append(BL)\n",
    "X.append(BR)\n",
    "\n",
    "Y = np.array(X)\n",
    "Y = Y.reshape(2, 2)\n",
    "\n",
    "print(Y)"
   ]
  }
 ],
 "metadata": {
  "kernelspec": {
   "display_name": "Python 3.10.5 64-bit",
   "language": "python",
   "name": "python3"
  },
  "language_info": {
   "codemirror_mode": {
    "name": "ipython",
    "version": 3
   },
   "file_extension": ".py",
   "mimetype": "text/x-python",
   "name": "python",
   "nbconvert_exporter": "python",
   "pygments_lexer": "ipython3",
   "version": "3.10.5"
  },
  "orig_nbformat": 4,
  "vscode": {
   "interpreter": {
    "hash": "27f6fea6f47ae512550f0b8facdbd035a93e1dd89633f7bf2dd00a2502c71d0d"
   }
  }
 },
 "nbformat": 4,
 "nbformat_minor": 2
}
