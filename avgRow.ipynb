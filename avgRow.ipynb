{
 "cells": [
  {
   "cell_type": "code",
   "execution_count": 2,
   "metadata": {},
   "outputs": [
    {
     "name": "stdout",
     "output_type": "stream",
     "text": [
      "[1.25 2.45]\n"
     ]
    }
   ],
   "source": [
    "import numpy as np\n",
    "\n",
    "n, p = [int(x) for x in input().split()]\n",
    "\n",
    "myArr = []\n",
    "for i in range(n):\n",
    "    myArr.append(input().split())\n",
    "    \n",
    "myArr_2 = np.array(myArr)\n",
    "myArr_2 = myArr_2.astype(np.float64)\n",
    "\n",
    "mean = myArr_2.mean(axis=1).round(2)\n",
    "print(mean)"
   ]
  },
  {
   "cell_type": "code",
   "execution_count": 1,
   "metadata": {},
   "outputs": [
    {
     "name": "stdout",
     "output_type": "stream",
     "text": [
      "TABEL NILAI\n",
      "     ASG  Mid Exam  Final Exam\n",
      "DS    40       100          90\n",
      "HCI   50       100          20\n",
      "SC    30       100          70\n"
     ]
    },
    {
     "data": {
      "text/plain": [
       "<AxesSubplot:>"
      ]
     },
     "execution_count": 1,
     "metadata": {},
     "output_type": "execute_result"
    },
    {
     "data": {
      "image/png": "[encoded data removed]",
      "text/plain": [
       "<Figure size 432x288 with 1 Axes>"
      ]
     },
     "metadata": {
      "needs_background": "light"
     },
     "output_type": "display_data"
    }
   ],
   "source": [
    "import pandas as pd\n",
    "import matplotlib.pyplot as plt\n",
    "plt.style.use('seaborn-poster')\n",
    "\n",
    "# Tabel Nilai\n",
    "\n",
    "Score = {\n",
    "  'ASG' : [40,50,30],\n",
    "  'Mid Exam' : [100,100,100],\n",
    "  'Final Exam' : [90,20,70]\n",
    "}\n",
    "\n",
    "data = pd.DataFrame(Score, index=['DS','HCI','SC'])\n",
    "print(\"TABEL NILAI\")\n",
    "print(data) \n",
    "data.describe()\n",
    "data.boxplot()"
   ]
  }
 ],
 "metadata": {
  "kernelspec": {
   "display_name": "Python 3.10.5 64-bit",
   "language": "python",
   "name": "python3"
  },
  "language_info": {
   "codemirror_mode": {
    "name": "ipython",
    "version": 3
   },
   "file_extension": ".py",
   "mimetype": "text/x-python",
   "name": "python",
   "nbconvert_exporter": "python",
   "pygments_lexer": "ipython3",
   "version": "3.10.5"
  },
  "orig_nbformat": 4,
  "vscode": {
   "interpreter": {
    "hash": "27f6fea6f47ae512550f0b8facdbd035a93e1dd89633f7bf2dd00a2502c71d0d"
   }
  }
 },
 "nbformat": 4,
 "nbformat_minor": 2
}
